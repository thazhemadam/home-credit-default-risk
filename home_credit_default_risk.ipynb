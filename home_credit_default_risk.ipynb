{
 "cells": [
  {
   "cell_type": "markdown",
   "metadata": {
    "_uuid": "815faacdf8a6796dd43262d5c509ea8965f9eb48"
   },
   "source": [
    "<h1 style=\"text-align:center;font-size:30px;\" > Home Credit Default Risk </h1>"
   ]
  },
  {
   "cell_type": "markdown",
   "metadata": {
    "_uuid": "5e4466424738eac806b15ca7fe686ff0eb749539"
   },
   "source": [
    "[1.Business Problem](#business) <br>\n",
    "- [1.1 Description](#description) <br>\n",
    "- [1.2 Sources/Useful Links](#links) <br>\n",
    "- [1.3 Real world/Business Objectives and Constraints](#real) <br>\n",
    "- [1.4 Data](#data) <br>\n",
    "\n",
    "[2. Exploratory Data Analysis](#analysis)<br>\n",
    "- [2.1 Reading data and basic stats](#stats)<br>\n",
    "- [2.2 Basic Analysis](#basic)<br>\n",
    "  - [2.2.1 Checking for Missing values](#missing) <br>\n",
    "  - [2.2.2 Checking for Duplicates](#dup) <br>\n",
    "  - [2.2.3 Distribution of data points among output classes](#distribution) <br>\n",
    "- [2.3 Data Analysis](#3.3)<br> \n",
    "  - [2.3.1 Types of loan](#3.3.1)<br>\n",
    "  - [2.3.2 Distribution of AMT_INCOME_TOTAL](#3.3.2)<br>\n",
    "  - [2.3.3 Distribution of AMT_CREDIT](#3.3.3)<br>\n",
    "  - [2.3.4 Distribution of Name of type of the Suite in terms of loan is repayed or not](#3.3.4)<br>\n",
    "  - [2.3.5 Distribution of Income sources of Applicants in terms of loan is repayed or not](#3.3.5)<br>\n",
    "  - [2.3.6 Distribution of Education of Applicants in terms of loan is repayed or not](#3.3.6)<br>\n",
    "  - [2.3.7 Distribution of Family status of Applicants in terms of loan is repayed or not](#3.3.7)<br>\n",
    "  - [2.3.8 Distribution of Housing type of Applicants in terms of loan is repayed or not](#3.3.8)<br>\n",
    "  - [2.3.9 Distribution of Clients Age](#3.3.9)<br>\n",
    "  - [2.3.10 Distribution of years before the application the person started current employment](#3.3.10)<br>\n",
    "  - [2.3.11 Occupation of Applicants in terms of loan is repayed or not](#3.3.11)<br>\n",
    "- [2.4 Preparation of data](#3.4)<br>\n",
    "  - [2.4.1 Feature Engineering of Application data](#3.4.1)<br>\n",
    "  - [2.4.2 Using Bureau Data](#3.4.2)<br>\n",
    "  - [2.4.3 Feature Engineering of Bureau Data](#3.4.3)<br>\n",
    "  - [2.4.4 Using Previous Application Data](#3.4.4)<br>\n",
    "  - [2.4.5 Using POS_CASH_balance data](#3.4.5)<br>\n",
    "  - [2.4.6 Using installments_payments data](#3.4.6)<br>\n",
    "  - [2.4.7 Using Credit card balance data](#3.4.7)<br>\n",
    "- [2.5 Dividing data into train, valid and test](#3.5)<br>\n",
    "- [2.6 Featurizing the data](#3.6)<br>\n",
    "- [2.7 Selection of features](#3.7)<br>\n",
    "\n",
    "[3. Machine Learning Models](#4)<br>\n",
    "- [3.1 Logistic regression with selected features](#4.1)<br>\n",
    "\n"
   ]
  },
  {
   "cell_type": "markdown",
   "metadata": {
    "_uuid": "a3f2c21f34c0da572baf04192ab33206ce020201"
   },
   "source": [
    "## <a id='business'></a>\n",
    "<h1> 1. Business Problem </h1>"
   ]
  },
  {
   "cell_type": "markdown",
   "metadata": {
    "_uuid": "ee83c79358eaf802349acef48a28970507252fd3"
   },
   "source": [
    "<a id='description'></a>\n",
    "<h2> 1.1 Description </h2>"
   ]
  },
  {
   "cell_type": "markdown",
   "metadata": {
    "_uuid": "40de5f15db71df125b855e335c86c3b32fd0284b"
   },
   "source": [
    "<p>\n",
    "Home Credit offers easy, simple and fast loans for a range of Home Appliances, Mobile Phones, Laptops, Two Wheelers , and varied personal needs. Home Credit strives to broaden financial inclusion for the unbanked population by providing a positive and safe borrowing experience. In order to make sure this underserved population has a positive loan experience, Home Credit makes use of a variety of alternative data--including telco and transactional information--to predict their clients' repayment abilities.\n",
    "<br />\n",
    "<br />\n",
    "This project focuses on the problem of predicting the capability of each applicant of repaying a loan, given the applicant data, all credits data from Credit Bureau, previous applications data from Home Credit and some more data. <br />\n",
    "</p>"
   ]
  },
  {
   "cell_type": "markdown",
   "metadata": {
    "_uuid": "27e60a5676fae2919347dcd7b5a2c3203d082596"
   },
   "source": [
    "<p style='font-size:18px'><b> Problem Statemtent </b></p>\n",
    "To predict how capable each applicant is of repaying a loan, so that sanctioning loan only for the applicants who are likely to repay the loan."
   ]
  },
  {
   "cell_type": "markdown",
   "metadata": {
    "_uuid": "93726389b6821df68fd585cafa7917219276dfe4"
   },
   "source": [
    "<p style='font-size:18px'> <b> Source:  </b> <br /> https://www.kaggle.com/c/home-credit-default-risk </p>"
   ]
  },
  {
   "cell_type": "markdown",
   "metadata": {
    "_uuid": "15d1f98a0efa7b1ff297eb1e50677f268221acfb"
   },
   "source": [
    "<a id='links'></a>\n",
    "<h2> 1.2 Sources/Useful Links</h2>"
   ]
  },
  {
   "cell_type": "markdown",
   "metadata": {
    "_uuid": "aac19dd226040590e7370532348d5b86480bc765"
   },
   "source": [
    "Data Source : https://www.kaggle.com/c/home-credit-default-risk/data <br>"
   ]
  },
  {
   "cell_type": "markdown",
   "metadata": {
    "_uuid": "00ff502c0578f84c28b7a1f40111ae587d2eba6c"
   },
   "source": [
    "<a id='real'></a>\n",
    "<h2> 1.3 Real World / Business Objectives and Constraints </h2>"
   ]
  },
  {
   "cell_type": "markdown",
   "metadata": {
    "_uuid": "f4020ea9050c6340415409d4d006c624a555da6f"
   },
   "source": [
    "1. No strict latency constraints.\n",
    "2. Predict the probability of capability of each applicant of repaying a loan, so that you can choose any threshold of choice. \n",
    "3. The cost of a mis-classification can be very high(Loss for the organization).\n",
    "4. Interpretability is partially important."
   ]
  },
  {
   "cell_type": "markdown",
   "metadata": {
    "_uuid": "fb93ebf33bffd93964fb279bd17c8158f8dde104"
   },
   "source": [
    "<a id='data'></a><h2> 1.4 Data </h2>"
   ]
  },
  {
   "cell_type": "markdown",
   "metadata": {
    "_uuid": "2d41d16f9682c844d70304e9f187ef2385152b27"
   },
   "source": [
    "The data is provided by Home Credit, a service dedicated to provided lines of credit (loans) to the unbanked population. <br />\n",
    "<br/>\n",
    "There are 7 different sources of data:\n",
    "\n",
    "- <b>application_train/application_test</b>: The main training data with information about each loan application at Home Credit. Every loan has its own row and is identified by the feature SK_ID_CURR. The training application data comes with the TARGET indicating 0: the loan was repaid or 1: the loan was not repaid. Here we will use only the Training data.\n",
    "- <b>bureau</b>: In this dataset it consists of data concerning client's previous credits from other financial institutions. Each previous credit has its own row in bureau, but one loan in the application data can have multiple previous credits.\n",
    "- <b>bureau_balance</b>: It consists of monthly data about the previous credits in bureau. Each row is one month of a previous credit, and a single previous credit can have multiple rows, one for each month of the credit length.\n",
    "- <b>previous_application</b>:The data of previous applications for loans at Home Credit of clients who have loans in the application data. Each current loan in the application data can have multiple previous loans. Each previous application has one row and is identified by the feature SK_ID_PREV.\n",
    "- <b>POS_CASH_BALANCE</b>: It consists of monthly data about previous point of sale or cash loans clients have had with Home Credit. Each row is one month of a previous point of sale or cash loan, and a single previous loan can have many rows.\n",
    "- <b>credit_card_balance</b>:The monthly data about previous credit cards clients have had with Home Credit. Each row is one month of a credit card balance, and a single credit card can have many rows.\n",
    "- <b>installments_payment</b>:The data of payment history for previous loans at Home Credit. There is one row for every made payment and one row for every missed payment.\n",
    "<br/>\n",
    "<br/>\n",
    "The below diagram shows how the data is related:\n",
    "<img src='images/home_credit.png'/>"
   ]
  },
  {
   "cell_type": "markdown",
   "metadata": {
    "_uuid": "26c87fdc3f058652aab1051def09194280810923"
   },
   "source": [
    "<a id='analysis'></a>\n",
    "<h1>2. Exploratory Data Analysis </h1>"
   ]
  },
  {
   "cell_type": "code",
   "execution_count": null,
   "metadata": {
    "_uuid": "458f9d5ebefed685ca2520b99f3218fe6619c463"
   },
   "outputs": [],
   "source": [
    "import pandas as pd\n",
    "import sklearn\n",
    "import numpy as np\n",
    "import matplotlib.pyplot as plt\n",
    "import os\n",
    "import warnings\n",
    "import seaborn as sns\n",
    "\n",
    "from sklearn.preprocessing import OneHotEncoder\n",
    "from sklearn.impute import SimpleImputer\n",
    "from sklearn.pipeline import Pipeline\n",
    "from sklearn.compose import ColumnTransformer\n",
    "from sklearn.preprocessing import StandardScaler\n",
    "from sklearn.svm import LinearSVC\n",
    "from sklearn.metrics import roc_auc_score\n",
    "from sklearn.linear_model import LogisticRegression\n",
    "from sklearn.metrics import roc_auc_score\n",
    "from sklearn.calibration import CalibratedClassifierCV\n",
    "from sklearn.metrics import confusion_matrix\n",
    "from sklearn.ensemble import RandomForestClassifier\n",
    "from sklearn.metrics import accuracy_score\n",
    "from sklearn.linear_model import SGDClassifier\n",
    "\n",
    "import plotly.offline as py\n",
    "#import chart_studio.plotly as py \n",
    "import plotly.graph_objs as go\n",
    "#import plotly.graph_objects as go\n",
    "#import chart_studio.plotly.graph_objs as go\n",
    "\n",
    "from plotly.offline import init_notebook_mode, iplot\n",
    "#from chart_studio.plotly import plot, iplot\n",
    "from sklearn.model_selection import train_test_split\n",
    "init_notebook_mode(connected=True)\n",
    "\n",
    "\n",
    "import cufflinks as cf\n",
    "cf.go_offline()\n",
    "\n",
    "import pickle\n",
    "import gc\n",
    "import lightgbm as lgb\n",
    "\n",
    "warnings.filterwarnings('ignore')\n",
    "%matplotlib inline"
   ]
  },
  {
   "cell_type": "markdown",
   "metadata": {
    "_uuid": "b933cc153f369c93a3e7fd2931291808fa0f7c68"
   },
   "source": [
    "<a id='stats'></a>\n",
    "<h2> 2.1 Reading data and basic stats </h2>"
   ]
  },
  {
   "cell_type": "markdown",
   "metadata": {
    "_uuid": "0b4bf5ee66f9a31f31e9afc2c816f33cad3299f9"
   },
   "source": [
    "- In this case study, we have multiple datasets from different data sources to deal with. First, we will start with the application dataset(Main table) and proceed further with the other datasets."
   ]
  },
  {
   "cell_type": "code",
   "execution_count": null,
   "metadata": {
    "_uuid": "bd6e33fddbcc7a597928dd747e430403ff1bed3b",
    "scrolled": true
   },
   "outputs": [],
   "source": [
    "print('Reading the data....', end='')\n",
    "application = pd.read_csv('application_train.csv')\n",
    "print('Finished reading the data.')\n",
    "print('The shape of data:',application.shape)\n",
    "print('First 5 rows of data:')\n",
    "application.head()"
   ]
  },
  {
   "cell_type": "code",
   "execution_count": null,
   "metadata": {
    "_uuid": "6f58109b261038f91efce815356c536c6104baef"
   },
   "outputs": [],
   "source": [
    "application.info()"
   ]
  },
  {
   "cell_type": "markdown",
   "metadata": {
    "_uuid": "518bc27700dee5b1909879b866b8815e0f9e8d7d"
   },
   "source": [
    "We are using 'application_train.csv' file :\n",
    "- This dataset consists of 307511 rows and 122 columns.\n",
    "- Each row has unique id 'SK_ID_CURR' and the output label is in the 'TARGET' column.\n",
    "- TARGET indicating 0: the loan was repaid or 1: the loan was not repaid.\n",
    "- The description of each column can be found in the file 'HomeCredit_columns_description.csv'"
   ]
  },
  {
   "cell_type": "markdown",
   "metadata": {
    "_uuid": "2a862bc3e0c3d145d7ce6ac5673c978e2dbe82b0"
   },
   "source": [
    "<a id='basic'></a>\n",
    "<h2> 2.2 Basic Analysis</h2>"
   ]
  },
  {
   "cell_type": "markdown",
   "metadata": {
    "_uuid": "44e37511d19d3ed3691c7f19e06b7f889d6b1e7a"
   },
   "source": [
    "<a id='missing'></a>\n",
    "<h3> 2.2.1 Checking for Missing values</h3>"
   ]
  },
  {
   "cell_type": "code",
   "execution_count": null,
   "metadata": {
    "_uuid": "7b56a91a7eaad5ac0d9c65642983969021870dea",
    "scrolled": false
   },
   "outputs": [],
   "source": [
    "count = application.isnull().sum().sort_values(ascending=False)\n",
    "percentage = ((application.isnull().sum()/len(application)*100)).sort_values(ascending=False)\n",
    "\n",
    "missing_application = pd.concat([count, percentage], axis=1, keys=['Count','Percentage'])\n",
    "print('Count and % of missing values for top 20 columns:')\n",
    "missing_application.head(20)"
   ]
  },
  {
   "cell_type": "markdown",
   "metadata": {
    "_uuid": "07ea016ed1050fce88ee667a439e9a7878db560d"
   },
   "source": [
    "#### Observations:\n",
    "- There are lot of missing values in each column."
   ]
  },
  {
   "cell_type": "markdown",
   "metadata": {
    "_uuid": "8d06b240ce0e0032294ee4c5f3ce5081093a9aac"
   },
   "source": [
    "<a id='dup'></a>\n",
    "<h3>2.2.2 Checking for Duplicates </h3>\n"
   ]
  },
  {
   "cell_type": "code",
   "execution_count": null,
   "metadata": {
    "_uuid": "14cbee234703d92c16905ddef691895c681923ae"
   },
   "outputs": [],
   "source": [
    "columns_without_id = [col for col in application.columns if col!='SK_ID_CURR']\n",
    "\n",
    "#Checking for duplicates in the data.\n",
    "application[application.duplicated(subset = columns_without_id, keep=False)]\n",
    "\n",
    "print('The no of duplicates in the data:',application[application.duplicated(subset = columns_without_id, keep=False)]\n",
    "      .shape[0])"
   ]
  },
  {
   "cell_type": "markdown",
   "metadata": {
    "_uuid": "d62c433756306747a5a134a4695371c411625987"
   },
   "source": [
    "<a id='distribution'></a>\n",
    "<h3> 2.2.3 Distribution of data points among output classes</h3>"
   ]
  },
  {
   "cell_type": "markdown",
   "metadata": {
    "_uuid": "0fe10c3df592395d3ba3bacbe66fe953a62425d8"
   },
   "source": [
    "Most of the analysis are plotted using **Plotly** , you can hover over the plot to see the overview of data."
   ]
  },
  {
   "cell_type": "code",
   "execution_count": null,
   "metadata": {
    "_uuid": "8ac41abe2c83c290a9c446ec596d9106fa5fa04c"
   },
   "outputs": [],
   "source": [
    "cf.set_config_file(theme='polar')\n",
    "target_val = application['TARGET'].value_counts()\n",
    "target_df = pd.DataFrame({'labels': ['Loan Repayed (0)','Loan not Repayed(1)'],\n",
    "                   'values': target_val.values\n",
    "                  })\n",
    "target_df.iplot(kind='pie',labels='labels',values='values', title='Loan Repayed or not', hole = 0.6)\n",
    "\n"
   ]
  },
  {
   "cell_type": "markdown",
   "metadata": {
    "_uuid": "e00ef04f128019aad3a125cd460acb1f5c5ee17e"
   },
   "source": [
    "#### Observations:\n",
    "- The data is imbalanced(91.9%(Loan repayed-0) and 8.07%(Loan not repayed-1)) and we need to handle this problem."
   ]
  },
  {
   "cell_type": "markdown",
   "metadata": {
    "_uuid": "71e9f33911a79dcb2e4f43628a1b6118d1971332"
   },
   "source": [
    "<a id='3.3'></a>\n",
    "<h2> 2.3 Data Analysis </h2>"
   ]
  },
  {
   "cell_type": "markdown",
   "metadata": {
    "_uuid": "5e5fdeea19a07fda0e48ba26eec2246fd1bb6631"
   },
   "source": [
    "<a id='3.3.1'></a>\n",
    "<h3> 2.3.1 Types of loan </h3>"
   ]
  },
  {
   "cell_type": "code",
   "execution_count": null,
   "metadata": {
    "_uuid": "7fda7d43fe13e2bfc16528f84ccb60a4174366da"
   },
   "outputs": [],
   "source": [
    "cf.set_config_file(theme='polar')\n",
    "contract_val = application['NAME_CONTRACT_TYPE'].value_counts()\n",
    "contract_df = pd.DataFrame({'labels': contract_val.index,\n",
    "                   'values': contract_val.values\n",
    "                  })\n",
    "contract_df.iplot(kind='pie',labels='labels',values='values', title='Types of Loan', hole = 0.6)"
   ]
  },
  {
   "cell_type": "markdown",
   "metadata": {
    "_uuid": "012b41cc2ab4564eade9717c27286b6a3b681b51"
   },
   "source": [
    "#### Observations:\n",
    "- Many people are willing to take cash loan than revolving loan (https://www.investopedia.com/terms/r/revolving-loan-facility.asp)."
   ]
  },
  {
   "cell_type": "markdown",
   "metadata": {
    "_uuid": "5e8c106cfe9b6ed897af8b0b0a2c0cf51d1cb5f6"
   },
   "source": [
    "<a id='3.3.2'></a>\n",
    "<h3> 2.3.2 Distribution of AMT_INCOME_TOTAL </h3>"
   ]
  },
  {
   "cell_type": "code",
   "execution_count": null,
   "metadata": {
    "_uuid": "caaaf7b7d63536997df329eadd4389378b99d05d"
   },
   "outputs": [],
   "source": [
    "cf.set_config_file(theme='pearl')\n",
    "application['AMT_INCOME_TOTAL'].iplot(kind='histogram', bins=100,\n",
    "                                      xTitle = 'Total Income',yTitle ='Count of applicants',\n",
    "                                     title='Distribution of AMT_INCOME_TOTAL')"
   ]
  },
  {
   "cell_type": "code",
   "execution_count": null,
   "metadata": {
    "_uuid": "e50755970f0d16a3ea9aedff64e2aa8cbf107b08"
   },
   "outputs": [],
   "source": [
    "application[application['AMT_INCOME_TOTAL'] < 2000000]['AMT_INCOME_TOTAL'].iplot(kind='histogram', bins=100,\n",
    "                                                        xTitle = 'Total Income',yTitle ='Count of applicants',\n",
    "                                     title='Distribution of AMT_INCOME_TOTAL')"
   ]
  },
  {
   "cell_type": "code",
   "execution_count": null,
   "metadata": {
    "_uuid": "04ef396890fb3c9f45f62ccde4abd01966c9b288"
   },
   "outputs": [],
   "source": [
    "(application[application['AMT_INCOME_TOTAL'] > 1000000]['TARGET'].value_counts())/len(application[application['AMT_INCOME_TOTAL'] > 1000000])*100"
   ]
  },
  {
   "cell_type": "markdown",
   "metadata": {
    "_uuid": "c37d55d29391807ca78e93b8b3fab0c1bdfce447"
   },
   "source": [
    "#### Observations:\n",
    "- The distribution is right skewed and there are extreme values, we can apply log distribution.\n",
    "- People with high income are likely to repay the loan."
   ]
  },
  {
   "cell_type": "markdown",
   "metadata": {
    "_uuid": "1fc1a256beca63dbb7d0a3bc9bb2068c4a607f15"
   },
   "source": [
    "<a id='3.3.3'></a>\n",
    "<h3> 2.3.3 Distribution of AMT_CREDIT</h3>"
   ]
  },
  {
   "cell_type": "code",
   "execution_count": null,
   "metadata": {
    "_uuid": "2718aca0daf9ec4e0f4bbbae9bc81129210631ae"
   },
   "outputs": [],
   "source": [
    "application['AMT_CREDIT'].iplot(kind='histogram', bins=100,\n",
    "                               xTitle = 'Credit Amount',yTitle ='Count of applicants',\n",
    "                               title='Distribution of AMT_CREDIT')"
   ]
  },
  {
   "cell_type": "code",
   "execution_count": null,
   "metadata": {
    "_uuid": "381cdbd2191695d56115b302648eda5a675214ef"
   },
   "outputs": [],
   "source": [
    "(application[application['AMT_CREDIT'] > 2000000]['TARGET'].value_counts())/len(application[application['AMT_CREDIT'] > 2000000])*100"
   ]
  },
  {
   "cell_type": "code",
   "execution_count": null,
   "metadata": {
    "_uuid": "fdd14aace11d2b08e674ed5c909a00e06e34a464"
   },
   "outputs": [],
   "source": [
    "np.log(application['AMT_CREDIT']).iplot(kind='histogram', bins=100,\n",
    "                               xTitle = 'log(Credit Amount)',yTitle ='Count of applicants',\n",
    "                               title='Distribution of log(AMT_CREDIT)')"
   ]
  },
  {
   "cell_type": "markdown",
   "metadata": {
    "_uuid": "d9e2107c8bb4c0c6b65e9554cdbdd51dee44995b"
   },
   "source": [
    "#### Observations:\n",
    "- People who are taking credit for large amount are very likely to repay the loan.\n",
    "- Originally the distribution is right skewed, we used log transformation to make it normal distributed."
   ]
  },
  {
   "cell_type": "markdown",
   "metadata": {
    "_uuid": "7411618be24a37584386d6efd9b830d156914a9b"
   },
   "source": [
    "<a id='3.3.4'></a>\n",
    "<h3>2.3.4 Distribution of Name of type of the Suite in terms of loan is repayed or not</h3>"
   ]
  },
  {
   "cell_type": "code",
   "execution_count": null,
   "metadata": {
    "_uuid": "aad3f92c22f0e5f6e280b36dd01d871be0794657"
   },
   "outputs": [],
   "source": [
    "cf.set_config_file(theme='polar')\n",
    "suite_val = (application['NAME_TYPE_SUITE'].value_counts()/len(application))*100\n",
    "suite_val.iplot(kind='bar', xTitle = 'Name of type of the Suite',\n",
    "             yTitle='Count of applicants in %',\n",
    "             title='Who accompanied client when applying for the  application in % ')"
   ]
  },
  {
   "cell_type": "code",
   "execution_count": null,
   "metadata": {
    "_uuid": "f69c756b327d21b4fc8e2c7a5e4ed8baf048b3e7"
   },
   "outputs": [],
   "source": [
    "suite_val = application['NAME_TYPE_SUITE'].value_counts()\n",
    "\n",
    "suite_val_y0 = []\n",
    "suite_val_y1 = []\n",
    "for val in suite_val.index:\n",
    "    suite_val_y1.append(np.sum(application['TARGET'][application['NAME_TYPE_SUITE']==val] == 1))\n",
    "    suite_val_y0.append(np.sum(application['TARGET'][application['NAME_TYPE_SUITE']==val] == 0))\n",
    "\n",
    "data = [go.Bar(x = suite_val.index, y = ((suite_val_y1 / suite_val.sum()) * 100), name='Yes' ),\n",
    "        go.Bar(x = suite_val.index, y = ((suite_val_y0 / suite_val.sum()) * 100), name='No' )]\n",
    "\n",
    "layout = go.Layout(\n",
    "    title = \"Who accompanied client when applying for the  application in terms of loan is repayed or not in %\",\n",
    "    xaxis=dict(\n",
    "        title='Name of type of the Suite',\n",
    "       ),\n",
    "    yaxis=dict(\n",
    "        title='Count of applicants in %',\n",
    "        )\n",
    ")\n",
    "\n",
    "fig = go.Figure(data = data, layout=layout) \n",
    "#fig.layout.template = 'plotly_dark'\n",
    "\n",
    "\n",
    "py.iplot(fig)\n"
   ]
  },
  {
   "cell_type": "markdown",
   "metadata": {
    "_uuid": "8478daecf3b4663318bd9464ee1ed68cc7da9575"
   },
   "source": [
    "<a id='3.3.5'></a>\n",
    "<h3>2.3.5 Distribution of Income sources of Applicants in terms of loan is repayed or not </h3>"
   ]
  },
  {
   "cell_type": "code",
   "execution_count": null,
   "metadata": {
    "_uuid": "c7bf85f1c15efbab8d4248a2a49676fdbe769f55"
   },
   "outputs": [],
   "source": [
    "income_val = application['NAME_INCOME_TYPE'].value_counts()\n",
    "\n",
    "income_val_y0 = []\n",
    "income_val_y1 = []\n",
    "for val in income_val.index:\n",
    "    income_val_y1.append(np.sum(application['TARGET'][application['NAME_INCOME_TYPE']==val] == 1))\n",
    "    income_val_y0.append(np.sum(application['TARGET'][application['NAME_INCOME_TYPE']==val] == 0))\n",
    "\n",
    "data = [go.Bar(x = income_val.index, y = ((income_val_y1 / income_val.sum()) * 100), name='Yes' ),\n",
    "        go.Bar(x = income_val.index, y = ((income_val_y0 / income_val.sum()) * 100), name='No' )]\n",
    "\n",
    "layout = go.Layout(\n",
    "    title = \"Income sources of Applicants in terms of loan is repayed or not  in %\",\n",
    "    xaxis=dict(\n",
    "        title='Income source',\n",
    "       ),\n",
    "    yaxis=dict(\n",
    "        title='Count of applicants in %',\n",
    "        )\n",
    ")\n",
    "\n",
    "fig = go.Figure(data = data, layout=layout) \n",
    "#fig.layout.template = 'plotly_dark'\n",
    "\n",
    "\n",
    "py.iplot(fig)\n"
   ]
  },
  {
   "cell_type": "markdown",
   "metadata": {
    "_uuid": "8aa8c7eda1f6b0232c8cf5ff4c7c3ad59d051dbe"
   },
   "source": [
    "#### Observations:\n",
    "- All the Students and Businessman are repaying loan.(Hover over the plot to observe)"
   ]
  },
  {
   "cell_type": "markdown",
   "metadata": {
    "_uuid": "870280a7410ac69be68d8cfa3f8b5b46fbb05c16"
   },
   "source": [
    "<a id='3.3.6'></a>\n",
    "<h3> 2.3.6 Distribution of Education of Applicants in terms of loan is repayed or not </h3>"
   ]
  },
  {
   "cell_type": "code",
   "execution_count": null,
   "metadata": {
    "_uuid": "133337e581c10bf332a7d55fa17dcd0fa0b92587"
   },
   "outputs": [],
   "source": [
    "education_val = application['NAME_EDUCATION_TYPE'].value_counts()\n",
    "\n",
    "education_val_y0 = []\n",
    "education_val_y1 = []\n",
    "for val in education_val.index:\n",
    "    education_val_y1.append(np.sum(application['TARGET'][application['NAME_EDUCATION_TYPE']==val] == 1))\n",
    "    education_val_y0.append(np.sum(application['TARGET'][application['NAME_EDUCATION_TYPE']==val] == 0))\n",
    "\n",
    "data = [go.Bar(x = education_val.index, y = ((education_val_y1 / education_val.sum()) * 100), name='Yes' ),\n",
    "        go.Bar(x = education_val.index, y = ((education_val_y0 / education_val.sum()) * 100), name='No' )]\n",
    "\n",
    "layout = go.Layout(\n",
    "    title = \"Education sources of Applicants in terms of loan is repayed or not  in %\",\n",
    "    xaxis=dict(\n",
    "        title='Education of Applicants',\n",
    "       ),\n",
    "    yaxis=dict(\n",
    "        title='Count of applicants in %',\n",
    "        )\n",
    ")\n",
    "\n",
    "fig = go.Figure(data = data, layout=layout) \n",
    "#fig.layout.template = 'plotly_dark'\n",
    "\n",
    "\n",
    "py.iplot(fig)\n"
   ]
  },
  {
   "cell_type": "markdown",
   "metadata": {
    "_uuid": "313842b1f8f9eb1eea91ed635dc0a245a0cce701"
   },
   "source": [
    "#### Observations:\n",
    "- People with Academic Degree are more likely to repay the loan(Out of 164, only 3 applicants are not able to repay)"
   ]
  },
  {
   "cell_type": "markdown",
   "metadata": {
    "_uuid": "79a0c4c084ec8c1bed134f0efc2629c65914228b"
   },
   "source": [
    "<a id='3.3.7'></a>\n",
    "<h3> 2.3.7 Distribution of Family status of Applicants in terms of loan is repayed or not </h3>"
   ]
  },
  {
   "cell_type": "code",
   "execution_count": null,
   "metadata": {
    "_uuid": "0ad4af0a18b0602bb7860e78094f591e875e448b"
   },
   "outputs": [],
   "source": [
    "family_val = application[\"NAME_FAMILY_STATUS\"].value_counts()\n",
    "\n",
    "family_val_y0 = []\n",
    "family_val_y1 = []\n",
    "for val in family_val.index:\n",
    "    family_val_y1.append(np.sum(application[\"TARGET\"][application[\"NAME_FAMILY_STATUS\"]==val] == 1))\n",
    "    family_val_y0.append(np.sum(application[\"TARGET\"][application[\"NAME_FAMILY_STATUS\"]==val] == 0))\n",
    "\n",
    "data = [go.Bar(x = family_val.index, y = ((family_val_y1 / family_val.sum()) * 100), name='Yes' ),\n",
    "        go.Bar(x = family_val.index, y = ((family_val_y0 / family_val.sum()) * 100), name='No' )]\n",
    "\n",
    "layout = go.Layout(\n",
    "    title = \"Family Status of Applicants in terms of loan is repayed or not in %\",\n",
    "    xaxis=dict(\n",
    "        title='Family Status',\n",
    "       ),\n",
    "    yaxis=dict(\n",
    "        title='Count of applicants in %',\n",
    "        )\n",
    ")\n",
    "\n",
    "fig = go.Figure(data = data, layout=layout) \n",
    "#fig.layout.template = 'plotly_dark'\n",
    "\n",
    "py.iplot(fig)\n"
   ]
  },
  {
   "cell_type": "markdown",
   "metadata": {
    "_uuid": "8130507e713ceb3365dd14ecbcf5849911e2065e"
   },
   "source": [
    "#### Observations:\n",
    "- Widows are more likely to repay the loan when compared to appliants with the other family statuses.   "
   ]
  },
  {
   "cell_type": "markdown",
   "metadata": {
    "_uuid": "1942e28a83e4695de1ebefb1f4b267fec93b4497"
   },
   "source": [
    "<a id='3.3.8'></a>\n",
    "<h3> 2.3.8 Distribution of Housing type of Applicants in terms of loan is repayed or not </h3>"
   ]
  },
  {
   "cell_type": "code",
   "execution_count": null,
   "metadata": {
    "_uuid": "10c42fc048197caa70c30b8fae20280302df729c"
   },
   "outputs": [],
   "source": [
    "housing_val = application['NAME_HOUSING_TYPE'].value_counts()\n",
    "\n",
    "housing_val_y0 = []\n",
    "housing_val_y1 = []\n",
    "for val in housing_val.index:\n",
    "    housing_val_y1.append(np.sum(application['TARGET'][application['NAME_HOUSING_TYPE']==val] == 1))\n",
    "    housing_val_y0.append(np.sum(application['TARGET'][application['NAME_HOUSING_TYPE']==val] == 0))\n",
    "\n",
    "data = [go.Bar(x = housing_val.index, y = ((housing_val_y1 / housing_val.sum()) * 100), name='Yes' ),\n",
    "        go.Bar(x = housing_val.index, y = ((housing_val_y0 / housing_val.sum()) * 100), name='No' )]\n",
    "\n",
    "layout = go.Layout(\n",
    "    title = \"For which types of house higher applicants applied for loan in terms of loan is repayed or not in %\",\n",
    "    xaxis=dict(\n",
    "        title='Type of house',\n",
    "       ),\n",
    "    yaxis=dict(\n",
    "        title='Count of applicants in %',\n",
    "        )\n",
    ")\n",
    "\n",
    "fig = go.Figure(data = data, layout=layout) \n",
    "#fig.layout.template = 'plotly_dark'\n",
    "\n",
    "\n",
    "py.iplot(fig)\n"
   ]
  },
  {
   "cell_type": "markdown",
   "metadata": {
    "_uuid": "155ccb9bc8789f4d9bcbaecdf131915b7631b742"
   },
   "source": [
    "<a id='3.3.9'></a>\n",
    "<h3> 2.3.9 Distribution of Clients Age </h3>"
   ]
  },
  {
   "cell_type": "code",
   "execution_count": null,
   "metadata": {
    "_uuid": "f8c80297cb22544b9e724c3e684e4ff4d286710c"
   },
   "outputs": [],
   "source": [
    "cf.set_config_file(theme='pearl')\n",
    "(application['DAYS_BIRTH']/(-365)).iplot(kind='histogram', xTitle = 'Age',bins=50,\n",
    "             yTitle='Count of type of applicants in %',\n",
    "             title='Distribution of Clients Age')"
   ]
  },
  {
   "cell_type": "markdown",
   "metadata": {
    "_uuid": "70dfe6b1ad5f57ab53fc197df48e61f6e78dab26"
   },
   "source": [
    "<a id='3.3.10'></a>\n",
    "<h3> 2.3.10 Distribution of years before the application the person started current employment </h3>"
   ]
  },
  {
   "cell_type": "code",
   "execution_count": null,
   "metadata": {
    "_uuid": "cc30d7c43b35277cf53f8ee618e48344caaef9fc"
   },
   "outputs": [],
   "source": [
    "cf.set_config_file(theme='pearl')\n",
    "(application['DAYS_EMPLOYED']).iplot(kind='histogram', xTitle = 'Days',bins=50,\n",
    "             yTitle='Count of applicants in %',\n",
    "             title='Days before the application the person started current employment')"
   ]
  },
  {
   "cell_type": "markdown",
   "metadata": {
    "_uuid": "954c31cece316050daf21a868da721baa4353116"
   },
   "source": [
    "- The data looks strange(we have -1000.66 years(-365243 days) of employment which is impossible) looks like there is data entry error."
   ]
  },
  {
   "cell_type": "code",
   "execution_count": null,
   "metadata": {
    "_uuid": "64a3097981d340caacf42a1dca5a92ff5320f7db"
   },
   "outputs": [],
   "source": [
    "application['DAYS_EMPLOYED'].describe()"
   ]
  },
  {
   "cell_type": "code",
   "execution_count": null,
   "metadata": {
    "_uuid": "2421d966bd0989465ce92b7468ed9eeb7ab545a1"
   },
   "outputs": [],
   "source": [
    "error = application[application['DAYS_EMPLOYED'] == 365243]\n",
    "print('The no of errors are :', len(error))\n",
    "(error['TARGET'].value_counts()/len(error))*100"
   ]
  },
  {
   "cell_type": "markdown",
   "metadata": {
    "_uuid": "2cf30202f5358a25c845b98a66e591352b1b48fa"
   },
   "source": [
    "- The error are default to 5.4%, so we need to handle this error"
   ]
  },
  {
   "cell_type": "code",
   "execution_count": null,
   "metadata": {
    "_uuid": "505d6ae89a1f6180f52041bbabe7b07ea1f8621d"
   },
   "outputs": [],
   "source": [
    "# Create an error flag column\n",
    "application['DAYS_EMPLOYED_ERROR'] = application[\"DAYS_EMPLOYED\"] == 365243\n",
    "\n",
    "# Replace the error values with nan\n",
    "application['DAYS_EMPLOYED'].replace({365243: np.nan}, inplace = True)"
   ]
  },
  {
   "cell_type": "code",
   "execution_count": null,
   "metadata": {
    "_uuid": "d42476fb2eed35f3d0a5df82e57345a896044fec"
   },
   "outputs": [],
   "source": [
    "cf.set_config_file(theme='pearl')\n",
    "(application['DAYS_EMPLOYED']/(-365)).iplot(kind='histogram', xTitle = 'Years of Employment',bins=50,\n",
    "             yTitle='Count of applicants in %',\n",
    "             title='Years before the application the person started current employment')"
   ]
  },
  {
   "cell_type": "code",
   "execution_count": null,
   "metadata": {
    "_uuid": "3e95725db9573210d4124d40724a606fb39fdab5"
   },
   "outputs": [],
   "source": [
    "application[application['DAYS_EMPLOYED']>(-365*2)]['TARGET'].value_counts()/sum(application['DAYS_EMPLOYED']>(-365*2))"
   ]
  },
  {
   "cell_type": "markdown",
   "metadata": {
    "_uuid": "7b38afe45c3e4ae1bc0157add017ad8172c1e46f"
   },
   "source": [
    "#### Observations:\n",
    "- The applicants with less than 2 years of employment are less likely to repay the loan."
   ]
  },
  {
   "cell_type": "markdown",
   "metadata": {
    "_uuid": "610f67dd8d01ebad0d047728d8b201669247ff07"
   },
   "source": [
    "<a id='3.3.11'></a>\n",
    "<h3> 2.3.11 Occupation of Applicants in terms of loan is repayed or not</h3>"
   ]
  },
  {
   "cell_type": "code",
   "execution_count": null,
   "metadata": {
    "_uuid": "551a81caec22f32cb85b0c5e781b6df9aa288eb1"
   },
   "outputs": [],
   "source": [
    "occupation_val = application['OCCUPATION_TYPE'].value_counts()\n",
    "\n",
    "occupation_val_y0 = []\n",
    "occupation_val_y1 = []\n",
    "for val in occupation_val.index:\n",
    "    occupation_val_y1.append(np.sum(application['TARGET'][application['OCCUPATION_TYPE']==val] == 1))\n",
    "    occupation_val_y0.append(np.sum(application['TARGET'][application['OCCUPATION_TYPE']==val] == 0))\n",
    "\n",
    "data = [go.Bar(x = occupation_val.index, y = ((occupation_val_y1 / occupation_val.sum()) * 100), name='Yes' ),\n",
    "        go.Bar(x = occupation_val.index, y = ((occupation_val_y0 / occupation_val.sum()) * 100), name='No' )]\n",
    "\n",
    "layout = go.Layout(\n",
    "    title = \"Occupation of Applicants in terms of loan is repayed or not in %\",\n",
    "    xaxis=dict(\n",
    "        title='Occupation ',\n",
    "       ),\n",
    "    yaxis=dict(\n",
    "        title='Count in %',\n",
    "        )\n",
    ")\n",
    "\n",
    "fig = go.Figure(data = data, layout=layout)\n",
    "#fig.layout.template = 'plotly_dark'\n",
    "\n",
    "\n",
    "py.iplot(fig)\n"
   ]
  },
  {
   "cell_type": "markdown",
   "metadata": {
    "_uuid": "8b60b414b96089d245844ae0d4414f2206db2e01"
   },
   "source": [
    "#### Observations:\n",
    "- Core staff ,Managers, High skill tech staff, Accountants are more likely to repay when compared to Laborers, Sales staff, Drivers, Low-skill Laborers(very less likely to repay)."
   ]
  },
  {
   "cell_type": "code",
   "execution_count": null,
   "metadata": {
    "_uuid": "35d604536cdac964be1aeae53939468c389f29a5"
   },
   "outputs": [],
   "source": [
    "application.shape"
   ]
  },
  {
   "cell_type": "markdown",
   "metadata": {
    "_uuid": "171c3534527bb4b1188e766b2409295fc94664fc"
   },
   "source": [
    "<a id='3.4'></a>\n",
    "<h2> 2.4 Preparation of data </h2>"
   ]
  },
  {
   "cell_type": "markdown",
   "metadata": {
    "_uuid": "ba8ca3cd59bb31e59ba02feec4b24ba4c7d613b4"
   },
   "source": [
    "<a id='3.4.1'></a>\n",
    "<h3> 2.4.1 Feature Engineering of Application data </h3>"
   ]
  },
  {
   "cell_type": "code",
   "execution_count": null,
   "metadata": {
    "_uuid": "c3c954129be0ac483c46f51ebca86a44fb35ec55"
   },
   "outputs": [],
   "source": [
    "# Flag to represent when Total income is greater than Credit\n",
    "application['INCOME_GT_CREDIT_FLAG'] = application['AMT_INCOME_TOTAL'] > application['AMT_CREDIT']\n",
    "# Column to represent Credit Income Percent\n",
    "application['CREDIT_INCOME_PERCENT'] = application['AMT_CREDIT'] / application['AMT_INCOME_TOTAL']\n",
    "# Column to represent Annuity Income percent\n",
    "application['ANNUITY_INCOME_PERCENT'] = application['AMT_ANNUITY'] / application['AMT_INCOME_TOTAL']\n",
    "# Column to represent Credit Term\n",
    "application['CREDIT_TERM'] = application['AMT_CREDIT'] / application['AMT_ANNUITY'] \n",
    "# Column to represent Days Employed percent in his life\n",
    "application['DAYS_EMPLOYED_PERCENT'] = application['DAYS_EMPLOYED'] / application['DAYS_BIRTH']"
   ]
  },
  {
   "cell_type": "code",
   "execution_count": null,
   "metadata": {
    "_uuid": "814cf26882e28b8352a411344c6dcd47bb856ca9"
   },
   "outputs": [],
   "source": [
    "application.shape"
   ]
  },
  {
   "cell_type": "markdown",
   "metadata": {
    "_uuid": "1ca0682dfa901372e6613586e56b5a991b30bf26"
   },
   "source": [
    "<a id='3.4.2'></a>\n",
    "<h3> 2.4.2 Using Bureau Data </h3>"
   ]
  },
  {
   "cell_type": "code",
   "execution_count": null,
   "metadata": {
    "_uuid": "4e90bc40abfe98641e75e7055d44505587c89758"
   },
   "outputs": [],
   "source": [
    "print('Reading the data....', end='')\n",
    "bureau = pd.read_csv('bureau.csv')\n",
    "print('done!!!')\n",
    "print('The shape of data:',bureau.shape)\n",
    "print('First 5 rows of data:')\n",
    "bureau.head()"
   ]
  },
  {
   "cell_type": "code",
   "execution_count": null,
   "metadata": {
    "_uuid": "f99b199d678e60458c9edde454f063e802c8af65"
   },
   "outputs": [],
   "source": [
    "# Combining numerical features\n",
    "grp = bureau.drop(['SK_ID_BUREAU'], axis = 1).groupby(by=['SK_ID_CURR']).mean().reset_index()\n",
    "grp.columns = ['BUREAU_'+column if column !='SK_ID_CURR' else column for column in grp.columns]\n",
    "application_bureau = application.merge(grp, on='SK_ID_CURR', how='left')\n",
    "application_bureau.update(application_bureau[grp.columns].fillna(0))"
   ]
  },
  {
   "cell_type": "code",
   "execution_count": null,
   "metadata": {
    "_uuid": "b1454704d9db359a702399ad20e15e300b8e0de9"
   },
   "outputs": [],
   "source": [
    "# Combining categorical features\n",
    "bureau_categorical = pd.get_dummies(bureau.select_dtypes('object'))\n",
    "bureau_categorical['SK_ID_CURR'] = bureau['SK_ID_CURR']\n",
    "\n",
    "grp = bureau_categorical.groupby(by = ['SK_ID_CURR']).mean().reset_index()\n",
    "grp.columns = ['BUREAU_'+column if column !='SK_ID_CURR' else column for column in grp.columns]\n",
    "application_bureau = application_bureau.merge(grp, on='SK_ID_CURR', how='left')\n",
    "application_bureau.update(application_bureau[grp.columns].fillna(0))"
   ]
  },
  {
   "cell_type": "code",
   "execution_count": null,
   "metadata": {
    "_uuid": "1982a230d626d668572aebd035d5a1d84bcaa2da"
   },
   "outputs": [],
   "source": [
    "application_bureau.shape"
   ]
  },
  {
   "cell_type": "markdown",
   "metadata": {
    "_uuid": "0f9cde4d82b22fda2d3278fa3ed5473791740899"
   },
   "source": [
    "<a id='3.4.3'></a>\n",
    "<h3> 2.4.3 Feature Engineering of Bureau Data </h3>"
   ]
  },
  {
   "cell_type": "code",
   "execution_count": null,
   "metadata": {
    "_uuid": "9230f1a4f0a813262c8f170787a2822dfc486c09"
   },
   "outputs": [],
   "source": [
    "# Number of past loans per customer\n",
    "grp = bureau.groupby(by = ['SK_ID_CURR'])['SK_ID_BUREAU'].count().reset_index().rename(columns = {'SK_ID_BUREAU': 'BUREAU_LOAN_COUNT'})\n",
    "\n",
    "application_bureau = application_bureau.merge(grp, on='SK_ID_CURR', how='left')\n",
    "application_bureau['BUREAU_LOAN_COUNT'] = application_bureau['BUREAU_LOAN_COUNT'].fillna(0)"
   ]
  },
  {
   "cell_type": "code",
   "execution_count": null,
   "metadata": {
    "_uuid": "7dd435db3485eda38b4b37cba374cc4fcc079813"
   },
   "outputs": [],
   "source": [
    "# Number of types of past loans per customer \n",
    "grp = bureau[['SK_ID_CURR', 'CREDIT_TYPE']].groupby(by = ['SK_ID_CURR'])['CREDIT_TYPE'].nunique().reset_index().rename(columns={'CREDIT_TYPE': 'BUREAU_LOAN_TYPES'})\n",
    "\n",
    "application_bureau = application_bureau.merge(grp, on='SK_ID_CURR', how='left')\n",
    "application_bureau['BUREAU_LOAN_TYPES'] = application_bureau['BUREAU_LOAN_TYPES'].fillna(0)"
   ]
  },
  {
   "cell_type": "code",
   "execution_count": null,
   "metadata": {
    "_uuid": "6158336f86e27428095bb58b14fab381f2a9f49c"
   },
   "outputs": [],
   "source": [
    "# Debt over credit ratio \n",
    "bureau['AMT_CREDIT_SUM'] = bureau['AMT_CREDIT_SUM'].fillna(0)\n",
    "bureau['AMT_CREDIT_SUM_DEBT'] = bureau['AMT_CREDIT_SUM_DEBT'].fillna(0)\n",
    "\n",
    "grp1 = bureau[['SK_ID_CURR','AMT_CREDIT_SUM']].groupby(by=['SK_ID_CURR'])['AMT_CREDIT_SUM'].sum().reset_index().rename(columns={'AMT_CREDIT_SUM': 'TOTAL_CREDIT_SUM'})\n",
    "\n",
    "grp2 = bureau[['SK_ID_CURR','AMT_CREDIT_SUM_DEBT']].groupby(by=['SK_ID_CURR'])['AMT_CREDIT_SUM_DEBT'].sum().reset_index().rename(columns={'AMT_CREDIT_SUM_DEBT':'TOTAL_CREDIT_SUM_DEBT'})\n",
    "\n",
    "grp1['DEBT_CREDIT_RATIO'] = grp2['TOTAL_CREDIT_SUM_DEBT']/grp1['TOTAL_CREDIT_SUM']\n",
    "\n",
    "del grp1['TOTAL_CREDIT_SUM']\n",
    "\n",
    "application_bureau = application_bureau.merge(grp1, on='SK_ID_CURR', how='left')\n",
    "application_bureau['DEBT_CREDIT_RATIO'] = application_bureau['DEBT_CREDIT_RATIO'].fillna(0)\n",
    "application_bureau['DEBT_CREDIT_RATIO'] = application_bureau.replace([np.inf, -np.inf], 0)\n",
    "application_bureau['DEBT_CREDIT_RATIO'] = pd.to_numeric(application_bureau['DEBT_CREDIT_RATIO'], downcast='float')"
   ]
  },
  {
   "cell_type": "code",
   "execution_count": null,
   "metadata": {
    "_uuid": "3271b4fe352f94cd4c3c35c4ff972a8b7b6e633f"
   },
   "outputs": [],
   "source": [
    "(application_bureau[application_bureau['DEBT_CREDIT_RATIO'] > 0.5]['TARGET'].value_counts()/len(application_bureau[application_bureau['DEBT_CREDIT_RATIO'] > 0.5]))*100"
   ]
  },
  {
   "cell_type": "code",
   "execution_count": null,
   "metadata": {
    "_uuid": "4cd13442b329e96f0dd086f4f6cfe1181775ae1c"
   },
   "outputs": [],
   "source": [
    "# Overdue over debt ratio\n",
    "bureau['AMT_CREDIT_SUM_OVERDUE'] = bureau['AMT_CREDIT_SUM_OVERDUE'].fillna(0)\n",
    "bureau['AMT_CREDIT_SUM_DEBT'] = bureau['AMT_CREDIT_SUM_DEBT'].fillna(0)\n",
    "\n",
    "grp1 = bureau[['SK_ID_CURR','AMT_CREDIT_SUM_OVERDUE']].groupby(by=['SK_ID_CURR'])['AMT_CREDIT_SUM_OVERDUE'].sum().reset_index().rename(columns={'AMT_CREDIT_SUM_OVERDUE': 'TOTAL_CUSTOMER_OVERDUE'})\n",
    "\n",
    "grp2 = bureau[['SK_ID_CURR','AMT_CREDIT_SUM_DEBT']].groupby(by=['SK_ID_CURR'])['AMT_CREDIT_SUM_DEBT'].sum().reset_index().rename(columns={'AMT_CREDIT_SUM_DEBT':'TOTAL_CUSTOMER_DEBT'})\n",
    "\n",
    "grp1['OVERDUE_DEBT_RATIO'] = grp1['TOTAL_CUSTOMER_OVERDUE']/grp2['TOTAL_CUSTOMER_DEBT']\n",
    "\n",
    "del grp1['TOTAL_CUSTOMER_OVERDUE']\n",
    "\n",
    "application_bureau = application_bureau.merge(grp1, on='SK_ID_CURR', how='left')\n",
    "application_bureau['OVERDUE_DEBT_RATIO'] = application_bureau['OVERDUE_DEBT_RATIO'].fillna(0)\n",
    "application_bureau['OVERDUE_DEBT_RATIO'] = application_bureau.replace([np.inf, -np.inf], 0)\n",
    "\n",
    "application_bureau['OVERDUE_DEBT_RATIO'] = pd.to_numeric(application_bureau['OVERDUE_DEBT_RATIO'], downcast='float')"
   ]
  },
  {
   "cell_type": "code",
   "execution_count": null,
   "metadata": {
    "_uuid": "9db447c42c4d20e49d0c26b795366a671dc0d1e5"
   },
   "outputs": [],
   "source": [
    "application_bureau.shape"
   ]
  },
  {
   "cell_type": "code",
   "execution_count": null,
   "metadata": {
    "_uuid": "e25b737ec80a1aebe7d25f98b8ac96eb576205a9"
   },
   "outputs": [],
   "source": [
    "gc.collect()"
   ]
  },
  {
   "cell_type": "markdown",
   "metadata": {
    "_uuid": "073fe30e701bb59d941b15015644433ee7dc30b2"
   },
   "source": [
    "<a id='3.4.4'></a>\n",
    "<h3> 2.4.4 Using Previous Application Data </h3>"
   ]
  },
  {
   "cell_type": "code",
   "execution_count": null,
   "metadata": {
    "_uuid": "3122577ab1fc6e2cdfdd79432e1bcd0e226a846d"
   },
   "outputs": [],
   "source": [
    "print('Reading the data....', end='')\n",
    "previous_applicaton = pd.read_csv('previous_application.csv')\n",
    "print('done!!!')\n",
    "print('The shape of data:',previous_applicaton.shape)\n",
    "print('First 5 rows of data:')\n",
    "previous_applicaton.head()"
   ]
  },
  {
   "cell_type": "code",
   "execution_count": null,
   "metadata": {
    "_uuid": "8080c987f0f256a025ace43e4ac742dcee92b840"
   },
   "outputs": [],
   "source": [
    "# Number of previous applications per customer\n",
    "grp = previous_applicaton[['SK_ID_CURR','SK_ID_PREV']].groupby(by=['SK_ID_CURR'])['SK_ID_PREV'].count().reset_index().rename(columns={'SK_ID_PREV':'PREV_APP_COUNT'})\n",
    "application_bureau_prev = application_bureau.merge(grp, on =['SK_ID_CURR'], how = 'left')\n",
    "application_bureau_prev['PREV_APP_COUNT'] = application_bureau_prev['PREV_APP_COUNT'].fillna(0)"
   ]
  },
  {
   "cell_type": "code",
   "execution_count": null,
   "metadata": {
    "_uuid": "5ca5e98f1fe3b9133fdcc72ba986a7cd029cd2fc"
   },
   "outputs": [],
   "source": [
    "# Combining numerical features\n",
    "grp = previous_applicaton.drop('SK_ID_PREV', axis =1).groupby(by=['SK_ID_CURR']).mean().reset_index()\n",
    "prev_columns = ['PREV_'+column if column != 'SK_ID_CURR' else column for column in grp.columns ]\n",
    "grp.columns = prev_columns\n",
    "application_bureau_prev = application_bureau_prev.merge(grp, on =['SK_ID_CURR'], how = 'left')\n",
    "application_bureau_prev.update(application_bureau_prev[grp.columns].fillna(0))"
   ]
  },
  {
   "cell_type": "code",
   "execution_count": null,
   "metadata": {
    "_uuid": "b6080c490f3b42f027a3a8d6bb2b5126b03e08ae"
   },
   "outputs": [],
   "source": [
    "# Combining categorical features\n",
    "prev_categorical = pd.get_dummies(previous_applicaton.select_dtypes('object'))\n",
    "prev_categorical['SK_ID_CURR'] = previous_applicaton['SK_ID_CURR']\n",
    "prev_categorical.head()\n",
    "\n",
    "grp = prev_categorical.groupby('SK_ID_CURR').mean().reset_index()\n",
    "grp.columns = ['PREV_'+column if column != 'SK_ID_CURR' else column for column in grp.columns]\n",
    "\n",
    "application_bureau_prev = application_bureau_prev.merge(grp, on=['SK_ID_CURR'], how='left')\n",
    "application_bureau_prev.update(application_bureau_prev[grp.columns].fillna(0))"
   ]
  },
  {
   "cell_type": "markdown",
   "metadata": {
    "_uuid": "4dc733f3e796751e35f97f94fb97843898594131"
   },
   "source": [
    "<a id='3.4.5'></a>\n",
    "<h3> 2.4.5 Using POS_CASH_balance data </h3>"
   ]
  },
  {
   "cell_type": "code",
   "execution_count": null,
   "metadata": {
    "_uuid": "13c594e745b1e145720737e57eff62c17bff7342"
   },
   "outputs": [],
   "source": [
    "print('Reading the data....', end='')\n",
    "pos_cash = pd.read_csv('POS_CASH_balance.csv')\n",
    "print('done!!!')\n",
    "print('The shape of data:',pos_cash.shape)\n",
    "print('First 5 rows of data:')\n",
    "pos_cash.head()"
   ]
  },
  {
   "cell_type": "code",
   "execution_count": null,
   "metadata": {
    "_uuid": "5e05a99d4f6bcc2721f13a8f6eb4a590c605bed3"
   },
   "outputs": [],
   "source": [
    "# Combining numerical features\n",
    "grp = pos_cash.drop('SK_ID_PREV', axis =1).groupby(by=['SK_ID_CURR']).mean().reset_index()\n",
    "prev_columns = ['POS_'+column if column != 'SK_ID_CURR' else column for column in grp.columns ]\n",
    "grp.columns = prev_columns\n",
    "application_bureau_prev = application_bureau_prev.merge(grp, on =['SK_ID_CURR'], how = 'left')\n",
    "application_bureau_prev.update(application_bureau_prev[grp.columns].fillna(0))"
   ]
  },
  {
   "cell_type": "code",
   "execution_count": null,
   "metadata": {
    "_uuid": "fd70d6218be9215311da9d85cf75b910b1adf776"
   },
   "outputs": [],
   "source": [
    "# Combining categorical features\n",
    "pos_cash_categorical = pd.get_dummies(pos_cash.select_dtypes('object'))\n",
    "pos_cash_categorical['SK_ID_CURR'] = pos_cash['SK_ID_CURR']\n",
    "\n",
    "grp = pos_cash_categorical.groupby('SK_ID_CURR').mean().reset_index()\n",
    "grp.columns = ['POS_'+column if column != 'SK_ID_CURR' else column for column in grp.columns]\n",
    "\n",
    "application_bureau_prev = application_bureau_prev.merge(grp, on=['SK_ID_CURR'], how='left')\n",
    "application_bureau_prev.update(application_bureau_prev[grp.columns].fillna(0))"
   ]
  },
  {
   "cell_type": "markdown",
   "metadata": {
    "_uuid": "1ad29d97a2fff99be3aedf9ad4a3bc49e0fdc67c"
   },
   "source": [
    "<a id='3.4.6'></a>\n",
    "<h3> 2.4.6 Using installments_payments data</h3>"
   ]
  },
  {
   "cell_type": "code",
   "execution_count": null,
   "metadata": {
    "_uuid": "e40e3d399e63c70f45eb1cc1d33e8348b4f1928f"
   },
   "outputs": [],
   "source": [
    "print('Reading the data....', end='')\n",
    "insta_payments = pd.read_csv('installments_payments.csv')\n",
    "print('done!!!')\n",
    "print('The shape of data:',insta_payments.shape)\n",
    "print('First 5 rows of data:')\n",
    "insta_payments.head()"
   ]
  },
  {
   "cell_type": "code",
   "execution_count": null,
   "metadata": {
    "_uuid": "d0175efc4d080fbbb6e4149749690c1a6a02a37a"
   },
   "outputs": [],
   "source": [
    "# Combining numerical features and there are no categorical features in this dataset\n",
    "grp = insta_payments.drop('SK_ID_PREV', axis =1).groupby(by=['SK_ID_CURR']).mean().reset_index()\n",
    "prev_columns = ['INSTA_'+column if column != 'SK_ID_CURR' else column for column in grp.columns ]\n",
    "grp.columns = prev_columns\n",
    "application_bureau_prev = application_bureau_prev.merge(grp, on =['SK_ID_CURR'], how = 'left')\n",
    "application_bureau_prev.update(application_bureau_prev[grp.columns].fillna(0))"
   ]
  },
  {
   "cell_type": "markdown",
   "metadata": {
    "_uuid": "5ad7c30c203ef8431d9a7b29a0ebfd74517284cd"
   },
   "source": [
    "<a id='3.4.7'></a>\n",
    "<h3> 2.4.7 Using Credit card balance data </h3>"
   ]
  },
  {
   "cell_type": "code",
   "execution_count": null,
   "metadata": {
    "_uuid": "7a88c23db209895342823b0cf8b4816e25b3cc39"
   },
   "outputs": [],
   "source": [
    "print('Reading the data....', end='')\n",
    "credit_card = pd.read_csv('credit_card_balance.csv')\n",
    "print('done!!!')\n",
    "print('The shape of data:',credit_card.shape)\n",
    "print('First 5 rows of data:')\n",
    "credit_card.head()"
   ]
  },
  {
   "cell_type": "code",
   "execution_count": null,
   "metadata": {
    "_uuid": "dccb4ea526fee7253958c96bb4299c557381259c"
   },
   "outputs": [],
   "source": [
    "# Combining numerical features\n",
    "grp = credit_card.drop('SK_ID_PREV', axis =1).groupby(by=['SK_ID_CURR']).mean().reset_index()\n",
    "prev_columns = ['CREDIT_'+column if column != 'SK_ID_CURR' else column for column in grp.columns ]\n",
    "grp.columns = prev_columns\n",
    "application_bureau_prev = application_bureau_prev.merge(grp, on =['SK_ID_CURR'], how = 'left')\n",
    "application_bureau_prev.update(application_bureau_prev[grp.columns].fillna(0))"
   ]
  },
  {
   "cell_type": "code",
   "execution_count": null,
   "metadata": {
    "_uuid": "fe891e7169b48b9caad5c65c8d8c39738769af80"
   },
   "outputs": [],
   "source": [
    "# Combining categorical features\n",
    "credit_categorical = pd.get_dummies(credit_card.select_dtypes('object'))\n",
    "credit_categorical['SK_ID_CURR'] = credit_card['SK_ID_CURR']\n",
    "\n",
    "grp = credit_categorical.groupby('SK_ID_CURR').mean().reset_index()\n",
    "grp.columns = ['CREDIT_'+column if column != 'SK_ID_CURR' else column for column in grp.columns]\n",
    "\n",
    "application_bureau_prev = application_bureau_prev.merge(grp, on=['SK_ID_CURR'], how='left')\n",
    "application_bureau_prev.update(application_bureau_prev[grp.columns].fillna(0))"
   ]
  },
  {
   "cell_type": "code",
   "execution_count": null,
   "metadata": {
    "_uuid": "41f60408cf877ffd264f4f3cf556c11edbb368a3"
   },
   "outputs": [],
   "source": [
    "application_bureau_prev.shape"
   ]
  },
  {
   "cell_type": "markdown",
   "metadata": {
    "_uuid": "87f7a537bda8f86bc2af118ff657c9416cf6b12c"
   },
   "source": [
    "<h3> 2.5 Dividing data into train, valid and test</h3>"
   ]
  },
  {
   "cell_type": "code",
   "execution_count": null,
   "metadata": {
    "_kg_hide-input": false,
    "_kg_hide-output": false,
    "_uuid": "d99b20bad6320356fb5d2e6939476b3b3d0bc170"
   },
   "outputs": [],
   "source": [
    "y = application_bureau_prev.pop('TARGET').values"
   ]
  },
  {
   "cell_type": "code",
   "execution_count": null,
   "metadata": {
    "_uuid": "d592d4cb1d96d3705c44dd8998b02b7e2273f930"
   },
   "outputs": [],
   "source": [
    "X_train, X_temp, y_train, y_temp = train_test_split(application_bureau_prev.drop(['SK_ID_CURR'],axis=1), y, stratify = y, test_size=0.3, random_state=42)\n",
    "X_val, X_test, y_val, y_test = train_test_split(X_temp, y_temp, stratify = y_temp, test_size=0.5, random_state=42)"
   ]
  },
  {
   "cell_type": "code",
   "execution_count": null,
   "metadata": {
    "_uuid": "67fe84fcc4c6e9543f230e11cd3a02142d939332"
   },
   "outputs": [],
   "source": [
    "print('Shape of X_train:',X_train.shape)\n",
    "print('Shape of X_val:',X_val.shape)\n",
    "print('Shape of X_test:',X_test.shape)"
   ]
  },
  {
   "cell_type": "markdown",
   "metadata": {
    "_uuid": "8e9f1d3815b2f5bef8d16208e05c696e97c9b116"
   },
   "source": [
    "<h3> 2.6 Featurizing the data</h3>"
   ]
  },
  {
   "cell_type": "code",
   "execution_count": null,
   "metadata": {
    "_uuid": "e0c3b4f64a9e6bc326e6dff40fcd5437a765cfa9"
   },
   "outputs": [],
   "source": [
    "# Seperation of columns into numeric and categorical columns\n",
    "types = np.array([dt for dt in X_train.dtypes])\n",
    "\n",
    "all_columns = X_train.columns.values\n",
    "is_num = types != 'object'\n",
    "\n",
    "num_cols = all_columns[is_num]\n",
    "cat_cols = all_columns[~is_num]\n"
   ]
  },
  {
   "cell_type": "code",
   "execution_count": null,
   "metadata": {
    "_uuid": "20dacad3798eacf15872347f30e2f8b6fa4d87f6"
   },
   "outputs": [],
   "source": [
    "# Featurization of numeric data\n",
    "\n",
    "imputer_num = SimpleImputer(strategy='median')\n",
    "X_train_num = imputer_num.fit_transform(X_train[num_cols])\n",
    "X_val_num = imputer_num.transform(X_val[num_cols])\n",
    "X_test_num = imputer_num.transform(X_test[num_cols])\n",
    "\n",
    "scaler_num = StandardScaler()\n",
    "X_train_num1 = scaler_num.fit_transform(X_train_num)\n",
    "X_val_num1 = scaler_num.transform(X_val_num)\n",
    "X_test_num1 = scaler_num.transform(X_test_num)\n",
    "\n",
    "X_train_num_final = pd.DataFrame(X_train_num1, columns=num_cols)\n",
    "X_val_num_final = pd.DataFrame(X_val_num1, columns=num_cols)\n",
    "X_test_num_final = pd.DataFrame(X_test_num1, columns=num_cols)\n"
   ]
  },
  {
   "cell_type": "code",
   "execution_count": null,
   "metadata": {
    "_uuid": "d1f743b4722e293a2d2090b81111fbb1a4b5a76c"
   },
   "outputs": [],
   "source": [
    "# Featurization of categorical data\n",
    "\n",
    "imputer_cat = SimpleImputer(strategy='constant', fill_value='MISSING')\n",
    "X_train_cat = imputer_cat.fit_transform(X_train[cat_cols])\n",
    "X_val_cat = imputer_cat.transform(X_val[cat_cols])\n",
    "X_test_cat = imputer_cat.transform(X_test[cat_cols])\n",
    "\n",
    "X_train_cat1= pd.DataFrame(X_train_cat, columns=cat_cols)\n",
    "X_val_cat1= pd.DataFrame(X_val_cat, columns=cat_cols)\n",
    "X_test_cat1= pd.DataFrame(X_test_cat, columns=cat_cols)\n",
    "\n",
    "ohe = OneHotEncoder(sparse=False,handle_unknown='ignore')\n",
    "X_train_cat2 = ohe.fit_transform(X_train_cat1)\n",
    "X_val_cat2 = ohe.transform(X_val_cat1)\n",
    "X_test_cat2 = ohe.transform(X_test_cat1)\n",
    "\n",
    "cat_cols_ohe = list(ohe.get_feature_names(input_features=cat_cols))\n",
    "\n",
    "X_train_cat_final = pd.DataFrame(X_train_cat2, columns = cat_cols_ohe)\n",
    "X_val_cat_final = pd.DataFrame(X_val_cat2, columns = cat_cols_ohe)\n",
    "X_test_cat_final = pd.DataFrame(X_test_cat2, columns = cat_cols_ohe)"
   ]
  },
  {
   "cell_type": "code",
   "execution_count": null,
   "metadata": {},
   "outputs": [],
   "source": [
    "# To free up the unused memory\n",
    "gc.collect()"
   ]
  },
  {
   "cell_type": "code",
   "execution_count": null,
   "metadata": {
    "_uuid": "62a4de025dd19ea33971a90728743f555ab09948"
   },
   "outputs": [],
   "source": [
    "# Final complete data\n",
    "X_train_final = pd.concat([X_train_num_final,X_train_cat_final], axis = 1)\n",
    "X_val_final = pd.concat([X_val_num_final,X_val_cat_final], axis = 1)\n",
    "X_test_final = pd.concat([X_test_num_final,X_test_cat_final], axis = 1)\n",
    "print(X_train_final.shape)\n",
    "print(X_val_final.shape)\n",
    "print(X_test_final.shape)"
   ]
  },
  {
   "cell_type": "code",
   "execution_count": null,
   "metadata": {
    "_uuid": "ab41fbfda9a3d393177bd948140f6b1d95360fe4"
   },
   "outputs": [],
   "source": [
    "# Saving the Dataframes into CSV files for future use\n",
    "X_train_final.to_csv('X_train_final.csv')\n",
    "X_val_final.to_csv('X_val_final.csv')\n",
    "X_test_final.to_csv('X_test_final.csv')"
   ]
  },
  {
   "cell_type": "code",
   "execution_count": null,
   "metadata": {},
   "outputs": [],
   "source": [
    "# Saving the numpy arrays into text files for future use\n",
    "np.savetxt('y.txt', y)\n",
    "np.savetxt('y_train.txt', y_train)\n",
    "np.savetxt('y_val.txt', y_val)\n",
    "np.savetxt('y_test.txt', y_test)"
   ]
  },
  {
   "cell_type": "markdown",
   "metadata": {
    "_uuid": "02379682cd1fa1a7eb74a05ca677f5d6c44dfe6d"
   },
   "source": [
    "<h3> 2.7 Selection of features</h3>"
   ]
  },
  {
   "cell_type": "code",
   "execution_count": null,
   "metadata": {
    "_uuid": "445a1629ef212b14c305d4e179b7f8e12d3d7509"
   },
   "outputs": [],
   "source": [
    "model_sk = lgb.LGBMClassifier(boosting_type='gbdt', max_depth=7, learning_rate=0.01, n_estimators= 2000, \n",
    "                 class_weight='balanced', subsample=0.9, colsample_bytree= 0.8, n_jobs=-1)\n",
    "\n",
    "train_features, valid_features, train_y, valid_y = train_test_split(X_train_final, y_train, test_size = 0.15, random_state = 42)\n",
    "\n",
    "model_sk.fit(train_features, train_y, early_stopping_rounds=100, eval_set = [(valid_features, valid_y)], eval_metric = 'auc', verbose = 200)\n"
   ]
  },
  {
   "cell_type": "code",
   "execution_count": null,
   "metadata": {
    "_uuid": "e978be41f71320882851dbc14c018977f379bb9b"
   },
   "outputs": [],
   "source": [
    "feature_imp = pd.DataFrame(sorted(zip(model_sk.feature_importances_, X_train_final.columns)), columns=['Value','Feature'])\n",
    "features_df = feature_imp.sort_values(by=\"Value\", ascending=False)\n",
    "selected_features = list(features_df[features_df['Value']>=50]['Feature'])\n",
    "print('The no. of features selected:',len(selected_features))"
   ]
  },
  {
   "cell_type": "code",
   "execution_count": null,
   "metadata": {
    "_uuid": "5d7978c29d308fd1c9667ac1df9884c3ebaa7b20"
   },
   "outputs": [],
   "source": [
    "# Saving the selected features into pickle file\n",
    "with open('select_features.txt','wb') as fp:\n",
    "    pickle.dump(selected_features, fp)"
   ]
  },
  {
   "cell_type": "code",
   "execution_count": null,
   "metadata": {
    "_uuid": "9cd8412bf419f146d075fac0e6ad10b5eb1eef3e"
   },
   "outputs": [],
   "source": [
    "# Feature importance Plot\n",
    "data1 = features_df.head(20)\n",
    "data = [go.Bar(x =data1.sort_values(by='Value')['Value'] , y = data1.sort_values(by='Value')['Feature'], orientation = 'h',\n",
    "              marker = dict(\n",
    "        color = 'rgba(43, 13, 150, 0.6)',\n",
    "        line = dict(\n",
    "            color = 'rgba(43, 13, 150, 1.0)',\n",
    "            width = 1.5)\n",
    "    )) ]\n",
    "\n",
    "layout = go.Layout(\n",
    "    autosize=False,\n",
    "    width=1300,\n",
    "    height=700,\n",
    "    title = \"Top 20 important features\",\n",
    "    xaxis=dict(\n",
    "        title='Importance value'\n",
    "        ),\n",
    "    yaxis=dict(\n",
    "        automargin=True\n",
    "        ),\n",
    "    bargap=0.4\n",
    "    )\n",
    "\n",
    "fig = go.Figure(data = data, layout=layout)\n",
    "#fig.layout.template = 'seaborn'\n",
    "\n",
    "\n",
    "py.iplot(fig)"
   ]
  },
  {
   "cell_type": "markdown",
   "metadata": {
    "_uuid": "c78de7f92778cc4bf32a6c398015f7425f272fee"
   },
   "source": [
    "<h1> 3. Machine Learning Models </h1>"
   ]
  },
  {
   "cell_type": "code",
   "execution_count": null,
   "metadata": {},
   "outputs": [],
   "source": [
    "X_train_final = pd.read_csv('X_train_final.csv')\n",
    "X_val_final = pd.read_csv('X_val_final.csv')\n",
    "X_test_final = pd.read_csv('X_test_final.csv')\n",
    "\n",
    "print('X_train_final',X_train_final.shape)\n",
    "print('X_val_final',X_val_final.shape)\n",
    "print('X_test_final',X_test_final.shape)"
   ]
  },
  {
   "cell_type": "code",
   "execution_count": null,
   "metadata": {},
   "outputs": [],
   "source": [
    "with open('select_features.txt', 'rb') as fp:\n",
    "    selected_features = pickle.load(fp)"
   ]
  },
  {
   "cell_type": "code",
   "execution_count": null,
   "metadata": {},
   "outputs": [],
   "source": [
    "y_train = np.loadtxt('y_train.txt')\n",
    "y_val = np.loadtxt('y_val.txt')\n",
    "y_test = np.loadtxt('y_test.txt')"
   ]
  },
  {
   "cell_type": "code",
   "execution_count": null,
   "metadata": {
    "_uuid": "b06a332271bf98ad24b86fce6e5c7388fe667ad2"
   },
   "outputs": [],
   "source": [
    "def plot_confusion_matrix(test_y, predicted_y):\n",
    "    # Confusion matrix\n",
    "    C = confusion_matrix(test_y, predicted_y)\n",
    "    \n",
    "    # Recall matrix\n",
    "    A = (((C.T)/(C.sum(axis=1))).T)\n",
    "    \n",
    "    # Precision matrix\n",
    "    B = (C/C.sum(axis=0))\n",
    "    \n",
    "    plt.figure(figsize=(20,4))\n",
    "    \n",
    "    labels = ['Re-paid(0)','Not Re-paid(1)']\n",
    "    cmap=sns.light_palette(\"purple\")\n",
    "    plt.subplot(1,3,1)\n",
    "    sns.heatmap(C, annot=True, cmap=cmap,fmt=\"d\", xticklabels = labels, yticklabels=labels)\n",
    "    plt.xlabel('Predicted Class')\n",
    "    plt.ylabel('Orignal Class')\n",
    "    plt.title('Confusion matrix')\n",
    "    \n",
    "    plt.subplot(1,3,2)\n",
    "    sns.heatmap(A, annot=True, cmap=cmap, xticklabels = labels, yticklabels=labels)\n",
    "    plt.xlabel('Predicted Class')\n",
    "    plt.ylabel('Orignal Class')\n",
    "    plt.title('Recall matrix')\n",
    "    \n",
    "    plt.subplot(1,3,3)\n",
    "    sns.heatmap(B, annot=True, cmap=cmap, xticklabels = labels, yticklabels=labels)\n",
    "    plt.xlabel('Predicted Class')\n",
    "    plt.ylabel('Orignal Class')\n",
    "    plt.title('Precision matrix')\n",
    "    \n",
    "    plt.show()"
   ]
  },
  {
   "cell_type": "code",
   "execution_count": null,
   "metadata": {},
   "outputs": [],
   "source": [
    "def cv_plot(alpha, cv_auc):\n",
    "    \n",
    "    fig, ax = plt.subplots()\n",
    "    ax.plot(np.log10(alpha), cv_auc,c='g')\n",
    "    for i, txt in enumerate(np.round(cv_auc,3)):\n",
    "        ax.annotate((alpha[i],str(txt)), (np.log10(alpha[i]),cv_auc[i]))\n",
    "    plt.grid()\n",
    "    plt.xticks(np.log10(alpha))\n",
    "    plt.title(\"Cross Validation Error for each alpha\")\n",
    "    plt.xlabel(\"Alpha i's\")\n",
    "    plt.ylabel(\"Error measure\")\n",
    "    plt.show()"
   ]
  },
  {
   "cell_type": "markdown",
   "metadata": {
    "_uuid": "13ccc7b895870835dbb863440502c905a4ac5eb8"
   },
   "source": [
    "<h2> 3.1 Logistic regression with selected features </h2>"
   ]
  },
  {
   "cell_type": "code",
   "execution_count": null,
   "metadata": {
    "_uuid": "d90154b52b86127530fd2e4e5e6dfd189abfced8"
   },
   "outputs": [],
   "source": [
    "alpha = np.logspace(-4,4,9)\n",
    "cv_auc_score = []\n",
    "\n",
    "for i in alpha:\n",
    "    clf = SGDClassifier(alpha=i, penalty='l1',class_weight = 'balanced', loss='log', random_state=28)\n",
    "    clf.fit(X_train_final[selected_features], y_train)\n",
    "    sig_clf = CalibratedClassifierCV(clf, method='sigmoid')\n",
    "    sig_clf.fit(X_train_final[selected_features], y_train)\n",
    "    y_pred_prob = sig_clf.predict_proba(X_val_final[selected_features])[:,1]\n",
    "    cv_auc_score.append(roc_auc_score(y_val,y_pred_prob))\n",
    "    print('For alpha {0}, cross validation AUC score {1}'.format(i,roc_auc_score(y_val,y_pred_prob)))\n",
    "\n",
    "cv_plot(alpha, cv_auc_score)    \n",
    "\n",
    "print('The Optimal C value is:', alpha[np.argmax(cv_auc_score)])    "
   ]
  },
  {
   "cell_type": "code",
   "execution_count": null,
   "metadata": {},
   "outputs": [],
   "source": [
    "best_alpha = alpha[np.argmax(cv_auc_score)]\n",
    "logreg = SGDClassifier(alpha = best_alpha, class_weight = 'balanced', penalty = 'l1', loss='log', random_state = 28)\n",
    "logreg.fit(X_train_final[selected_features], y_train)\n",
    "logreg_sig_clf = CalibratedClassifierCV(logreg, method='sigmoid')\n",
    "logreg_sig_clf.fit(X_train_final[selected_features], y_train)\n",
    "y_pred_prob = logreg_sig_clf.predict_proba(X_train_final[selected_features])[:,1]\n",
    "print('For best alpha {0}, The Train AUC score is {1}'.format(best_alpha, roc_auc_score(y_train,y_pred_prob) ))    \n",
    "y_pred_prob = logreg_sig_clf.predict_proba(X_val_final[selected_features])[:,1]\n",
    "print('For best alpha {0}, The Cross validated AUC score is {1}'.format(best_alpha, roc_auc_score(y_val,y_pred_prob) ))  \n",
    "y_pred_prob = logreg_sig_clf.predict_proba(X_test_final[selected_features])[:,1]\n",
    "print('For best alpha {0}, The Test AUC score is {1}'.format(best_alpha, roc_auc_score(y_test,y_pred_prob) ))  \n",
    "y_pred = logreg.predict(X_test_final[selected_features])\n",
    "print('The test AUC score is :', roc_auc_score(y_test,y_pred_prob))\n",
    "print('The percentage of misclassified points {:05.2f}% :'.format((1-accuracy_score(y_test, y_pred))*100))\n",
    "plot_confusion_matrix(y_test, y_pred)"
   ]
  },
  {
   "cell_type": "code",
   "execution_count": null,
   "metadata": {},
   "outputs": [],
   "source": [
    "from sklearn.metrics import roc_curve\n",
    "fpr, tpr, thresholds = roc_curve(y_test, y_pred_prob)\n",
    "auc = roc_auc_score(y_test,y_pred_prob)\n",
    "\n",
    "plt.figure(figsize=(8,6))\n",
    "plt.plot(fpr, tpr, marker='.')\n",
    "plt.plot([0, 1], [0, 1], linestyle='--')\n",
    "plt.title('ROC curve', fontsize = 20)\n",
    "plt.xlabel('FPR', fontsize=15)\n",
    "plt.ylabel('TPR', fontsize=15)\n",
    "plt.grid()\n",
    "plt.legend([\"AUC=%.3f\"%auc])\n",
    "plt.show()"
   ]
  }
 ],
 "metadata": {
  "kernelspec": {
   "display_name": "Python 3",
   "language": "python",
   "name": "python3"
  },
  "language_info": {
   "codemirror_mode": {
    "name": "ipython",
    "version": 3
   },
   "file_extension": ".py",
   "mimetype": "text/x-python",
   "name": "python",
   "nbconvert_exporter": "python",
   "pygments_lexer": "ipython3",
   "version": "3.7.6"
  }
 },
 "nbformat": 4,
 "nbformat_minor": 1
}
